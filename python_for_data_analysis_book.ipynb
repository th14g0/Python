{
  "nbformat": 4,
  "nbformat_minor": 0,
  "metadata": {
    "colab": {
      "name": "python_for_data_analysis_book.ipynb",
      "version": "0.3.2",
      "provenance": [],
      "collapsed_sections": []
    },
    "kernelspec": {
      "name": "python3",
      "display_name": "Python 3"
    }
  },
  "cells": [
    {
      "cell_type": "markdown",
      "metadata": {
        "id": "view-in-github",
        "colab_type": "text"
      },
      "source": [
        "[View in Colaboratory](https://colab.research.google.com/github/th14g0/Python/blob/master/python_for_data_analysis_book.ipynb)"
      ]
    },
    {
      "metadata": {
        "id": "Ot3_T0Z-U-sY",
        "colab_type": "code",
        "colab": {}
      },
      "cell_type": "code",
      "source": [
        "#@title Imports\n",
        "import numpy as np\n",
        "import pandas as pd\n",
        "t as plt\n",
        "import seaborn as sns\n",
        "import statsmodels as sm\n",
        "\n",
        "%matplotlib inline"
      ],
      "execution_count": 0,
      "outputs": []
    },
    {
      "metadata": {
        "id": "QqZ2Lr8gVCK8",
        "colab_type": "code",
        "colab": {}
      },
      "cell_type": "code",
      "source": [
        "#@title File Uploader\n",
        "\n",
        "from google.colab import files\n",
        "\n",
        "uploaded = files.upload() # then browse, select the files. It's then uploaded\n",
        "\n",
        "# uploaded is now a dict containing \"filename\" -> Content"
      ],
      "execution_count": 0,
      "outputs": []
    },
    {
      "metadata": {
        "id": "zyZfHw9yOcqd",
        "colab_type": "code",
        "colab": {}
      },
      "cell_type": "code",
      "source": [
        "#@title File downloader\n",
        "\n",
        "file downloader\n",
        "files.download('example.txt')  # from colab to browser download"
      ],
      "execution_count": 0,
      "outputs": []
    },
    {
      "metadata": {
        "id": "bkh5ej2a3iTM",
        "colab_type": "code",
        "colab": {}
      },
      "cell_type": "code",
      "source": [
        "#@title Swap Variables\n",
        "\n",
        "a = 5\n",
        "b = 7\n",
        "\n",
        "b,a = a,b\n",
        "\n",
        "print(a)\n",
        "print(b)"
      ],
      "execution_count": 0,
      "outputs": []
    },
    {
      "metadata": {
        "id": "GL21IEmc3icT",
        "colab_type": "code",
        "colab": {}
      },
      "cell_type": "code",
      "source": [
        "#@title Reverse list or tuple\n",
        "\n",
        "list_1 = ['brava','ta','ce','mas']\n",
        "list_1 = list_1[::-1]\n",
        "list_1"
      ],
      "execution_count": 0,
      "outputs": []
    },
    {
      "metadata": {
        "id": "nv4yzWSl3ifH",
        "colab_type": "code",
        "colab": {}
      },
      "cell_type": "code",
      "source": [
        "#@title Loop through list\n",
        "list_1 = ['brava','ta','ce','mas']\n",
        "list_1 = list_1[::-1]\n",
        "\n",
        "for i, value in enumerate(list_1):\n",
        "  print(value)"
      ],
      "execution_count": 0,
      "outputs": []
    },
    {
      "metadata": {
        "id": "kC-ijPMqHj-U",
        "colab_type": "code",
        "colab": {}
      },
      "cell_type": "code",
      "source": [
        "#@title Iterate over multiple sequences\n",
        "\n",
        "list_1 = ['brava','ta','ce','mas']\n",
        "list_2 = list_1[::-1]\n",
        "\n",
        "for i, (a,b) in enumerate(zip(list_1,list_2)):\n",
        "  print('{0}: {1}, {2}'.format(i, a, b))"
      ],
      "execution_count": 0,
      "outputs": []
    },
    {
      "metadata": {
        "id": "TRninQki3iyK",
        "colab_type": "code",
        "colab": {}
      },
      "cell_type": "code",
      "source": [
        "#@title Turn rows into columns\n",
        "pitchers = [('Nolan', 'Ryan'),('Roger', 'Clemens'), ('Schilling','Curt')]\n",
        "\n",
        "#nice trick to extract columns with unzip\n",
        "\n",
        "first_names, last_names = zip(*pitchers)\n",
        "first_names\n",
        "\n"
      ],
      "execution_count": 0,
      "outputs": []
    },
    {
      "metadata": {
        "id": "HUBx3TVH3i0m",
        "colab_type": "code",
        "colab": {}
      },
      "cell_type": "code",
      "source": [
        "#@title Dict data structure\n",
        "\n",
        "# dict is probably the most important built-in data structure\n",
        "\n",
        "# a.k.a hash map or associative array\n",
        "\n",
        "empty_dict = {}\n",
        "\n",
        "d1 = {'a' : 'some value', 'b' : [1, 2, 3, 4]}\n",
        "\n",
        "test__ = 0\n",
        "\n",
        "if 'b' in d1:\n",
        "  test__ = d1['b'][2]\n",
        "\n",
        "d1[7] = 'an integer'\n",
        "\n",
        "d1[5] = 'some value'\n",
        "\n",
        "d1['dummy'] = 'another value'\n",
        "\n",
        "del d1[5]\n",
        "\n",
        "ret = d1.pop('dummy')\n",
        "\n",
        "d1.update({'b' : 'hieeee', 'c' : 'new update' })\n",
        "\n",
        "print(list(d1.keys()))\n",
        "\n",
        "print(list(d1.values()))\n",
        "\n",
        "d1"
      ],
      "execution_count": 0,
      "outputs": []
    },
    {
      "metadata": {
        "id": "SZun5RNm3i3i",
        "colab_type": "code",
        "colab": {}
      },
      "cell_type": "code",
      "source": [
        "#@title Creating dict from sequences\n",
        "\n",
        "key_list = [1, 2, 3]\n",
        "value_list = ['one', 'two', 'three']\n",
        "\n",
        "mapping = {}\n",
        "for key, value in zip(key_list, value_list):\n",
        "  mapping[key] = value\n",
        "  \n",
        "mapping_2 = dict(zip(range(5),reversed(range(5))))\n",
        "\n",
        "#retrieve from dict with default value\n",
        "value = mapping_2.get('4', 'not found')\n",
        "\n",
        "value\n",
        "\n"
      ],
      "execution_count": 0,
      "outputs": []
    },
    {
      "metadata": {
        "id": "6H4rDwkF3i6-",
        "colab_type": "code",
        "colab": {}
      },
      "cell_type": "code",
      "source": [
        "#@title Create a dict grouped by first letter -hard way\n",
        "words = ['apple', 'bat', 'bar', 'atom','book']\n",
        "by_letter = {}\n",
        "\n",
        "for word in words:\n",
        "  letter = word[0]\n",
        "  if letter not in by_letter:\n",
        "    by_letter[letter] = [word]\n",
        "  else:\n",
        "    by_letter[letter].append(word)"
      ],
      "execution_count": 0,
      "outputs": []
    },
    {
      "metadata": {
        "id": "4m0XpyA13i98",
        "colab_type": "code",
        "colab": {}
      },
      "cell_type": "code",
      "source": [
        "#@title Create a dict grouped by first letter - using setdefault\n",
        "words = ['apple', 'bat', 'bar', 'atom','book']\n",
        "by_letter = {}\n",
        "\n",
        "for word in words:\n",
        "  letter = word[0]\n",
        "  by_letter.setdefault(letter,[]).append(word)\n",
        "  \n",
        "by_letter"
      ],
      "execution_count": 0,
      "outputs": []
    },
    {
      "metadata": {
        "id": "7qNi1dT5CpUI",
        "colab_type": "code",
        "colab": {}
      },
      "cell_type": "code",
      "source": [
        ""
      ],
      "execution_count": 0,
      "outputs": []
    }
  ]
}